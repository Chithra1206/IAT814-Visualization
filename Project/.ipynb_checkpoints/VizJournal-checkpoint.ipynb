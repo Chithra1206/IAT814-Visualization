{
 "cells": [
  {
   "cell_type": "code",
   "execution_count": null,
   "metadata": {},
   "outputs": [],
   "source": [
    "import json\n",
    "with open('./data/2019-04-17 history.json') as json_file:  \n",
    "    data = json.load(json_file)"
   ]
  },
  {
   "cell_type": "code",
   "execution_count": null,
   "metadata": {},
   "outputs": [],
   "source": [
    "text =[]\n",
    "for i in range(len(data)):\n",
    "     text.append(data[i][\"title\"])"
   ]
  },
  {
   "cell_type": "code",
   "execution_count": null,
   "metadata": {},
   "outputs": [],
   "source": [
    "import nltk\n",
    "from nltk.corpus import stopwords\n",
    "texts = ''.join(text)\n",
    "stopwords = set(stopwords.words(\"english\"))\n",
    "allWords = nltk.tokenize.word_tokenize(texts)\n",
    "allWords = [x.lower() for x in allWords if x.isalpha()]\n",
    "for word in list(allWords):\n",
    "    if word in stopwords:\n",
    "        allWords.remove(word)"
   ]
  },
  {
   "cell_type": "code",
   "execution_count": null,
   "metadata": {},
   "outputs": [],
   "source": [
    "allWordDist = nltk.FreqDist(w.lower() for w in allWords)\n",
    "removeWords = ['episode', 'online', 'season','full', 'free']\n",
    "freqWords = allWordDist.most_common(50)\n",
    "freqWordList = [i for i in freqWords if i[0] not in removeWords]"
   ]
  },
  {
   "cell_type": "code",
   "execution_count": null,
   "metadata": {},
   "outputs": [],
   "source": [
    "import pandas as pd\n",
    "df = pd.DataFrame(freqWordList, columns=['word', 'count'])\n",
    "df.to_csv('History.csv')"
   ]
  },
  {
   "cell_type": "code",
   "execution_count": 58,
   "metadata": {},
   "outputs": [],
   "source": [
    "import pandas as pd\n",
    "import io\n",
    "df = pd.read_csv('/Users/chithrabhat/Downloads/pcbanking.csv', header = None)"
   ]
  },
  {
   "cell_type": "code",
   "execution_count": 59,
   "metadata": {},
   "outputs": [],
   "source": [
    "df = df.drop([2, 3], axis =1)"
   ]
  },
  {
   "cell_type": "code",
   "execution_count": 64,
   "metadata": {},
   "outputs": [],
   "source": [
    "import re\n",
    "df.columns = ['Date', 'Amount', 'Location']\n",
    "df = df.dropna()\n",
    "df = df[df.Amount <0]\n",
    "df.Location = df.Location.apply(lambda x: x.split('#')[0])\n"
   ]
  },
  {
   "cell_type": "code",
   "execution_count": 93,
   "metadata": {},
   "outputs": [
    {
     "ename": "SyntaxError",
     "evalue": "invalid syntax (<ipython-input-93-9fa44e142978>, line 7)",
     "output_type": "error",
     "traceback": [
      "\u001b[0;36m  File \u001b[0;32m\"<ipython-input-93-9fa44e142978>\"\u001b[0;36m, line \u001b[0;32m7\u001b[0m\n\u001b[0;31m    replace('VANCO','').replace('TAXI', '').replace('HAIR', '').replace('BONNY', '').replace('BEAUTY', ''))\u001b[0m\n\u001b[0m          ^\u001b[0m\n\u001b[0;31mSyntaxError\u001b[0m\u001b[0;31m:\u001b[0m invalid syntax\n"
     ]
    }
   ],
   "source": [
    "from wordcloud import WordCloud, STOPWORDS\n",
    "import matplotlib.pyplot as plt\n",
    "%matplotlib inline\n",
    "wordcloud = WordCloud(width = 3000,height = 2000,background_color = 'black')\\\n",
    ".generate(','.join(df.Location).replace('Amste', '').replace('BURNA', '').replace('OPOS', '').replace('VICTO', '').\\\n",
    "         replace('ROYAL', '').replace('CITY', '')\\\n",
    "          .replace('VANCO','').replace('TAXI', '').replace('HAIR', '').replace('BONNY', '').replace('BEAUTY', ''))\n",
    "# Generate plot\n",
    "fig = plt.figure(\n",
    "    figsize = (40, 30),\n",
    "    facecolor = 'k',\n",
    "    edgecolor = 'k')\n",
    "plt.imshow(wordcloud, interpolation = 'bilinear')\n",
    "plt.axis('off')\n",
    "plt.tight_layout(pad=0)\n",
    "plt.show()"
   ]
  },
  {
   "cell_type": "code",
   "execution_count": null,
   "metadata": {},
   "outputs": [],
   "source": []
  },
  {
   "cell_type": "code",
   "execution_count": null,
   "metadata": {},
   "outputs": [],
   "source": []
  },
  {
   "cell_type": "code",
   "execution_count": null,
   "metadata": {},
   "outputs": [],
   "source": []
  },
  {
   "cell_type": "code",
   "execution_count": null,
   "metadata": {},
   "outputs": [],
   "source": []
  },
  {
   "cell_type": "code",
   "execution_count": null,
   "metadata": {},
   "outputs": [],
   "source": []
  },
  {
   "cell_type": "code",
   "execution_count": 85,
   "metadata": {},
   "outputs": [
    {
     "data": {
      "text/plain": [
       "\"ROYAL CITY TAXI ,SAFEWAY ,ROYAL CITY TAXI ,OPOS UberBV              ,OPOS UberBV              ,OPOS UberBV              ,OPOS REVENUE SERVICES BC VICTO,OPOS FIDO MACC           888-4,ROYAL CITY TAXI ,RENAISSANCE CAFE         ,RENAISSANCE CAFE         ,JUGO JUICE - SFU         ,7 ELEVEN STORE ,WAL-MART ,TIM HORTONS ,ROYAL CITY TAXI ,WAL-MART ,SAFEWAY ,MINISO CANADA            ,TIM HORTONS ,ROYAL CITY TAXI ,WAL-MART ,SAVE ON FOODS ,OPOS FIDO MACC           888-4,7-ELEVEN STORE ,TIM HORTONS ,ROYAL CITY TAXI ,MB-EMAIL MONEY TRF,7-ELEVEN STORE ,RENAISSANCE CAFE         ,BONNY'S TAXI B 118       ,SAFEWAY ,REAL CDN SUPERSTORE ,GAP CA 9803              ,ARDENE ,H&M CA ,SEPHORA METROPOLIS ,MONEY`S BEAUTY HAIR SA   ,WAL-MART ,OPOS PAYPAL *SOKO GLAM   40293,SAFEWAY ,MACDONALD'S PRESCRIPTION VANCO,REAL CDN SUPERSTORE ,A STEP AHEAD FOOTWEAR    ,SEPHORA METROPOLIS ,HUDSON'S BAY ,HUDSON'S BAY ,7-ELEVEN STORE ,TIM HORTONS ,OPOS FIDO MACC           888-4,7-ELEVEN STORE ,7-ELEVEN STORE ,MB-EMAIL MONEY TRF,WAL-MART ,OPOS REVENUE SERVICES BC VICTO,WAL-MART ,7-ELEVEN STORE ,OPOS UDACITY  INC        MOUNT,WAL-MART ,SAFEWAY ,SAFEWAY ,OPOS COMPASS WEB         ,OPOS FIDO MACC           888-4,PC-SIMON FRASER UNIVERSITY,7-ELEVEN STORE ,FPOS KENYA FOOD & SPICES \""
      ]
     },
     "execution_count": 85,
     "metadata": {},
     "output_type": "execute_result"
    }
   ],
   "source": [
    "dummy = ','.join(df.Location)\n",
    "dummy.replace('Amste', '').replace('BURNA', '')"
   ]
  },
  {
   "cell_type": "code",
   "execution_count": null,
   "metadata": {},
   "outputs": [],
   "source": []
  }
 ],
 "metadata": {
  "kernelspec": {
   "display_name": "Python 3",
   "language": "python",
   "name": "python3"
  },
  "language_info": {
   "codemirror_mode": {
    "name": "ipython",
    "version": 3
   },
   "file_extension": ".py",
   "mimetype": "text/x-python",
   "name": "python",
   "nbconvert_exporter": "python",
   "pygments_lexer": "ipython3",
   "version": "3.6.3"
  }
 },
 "nbformat": 4,
 "nbformat_minor": 2
}
